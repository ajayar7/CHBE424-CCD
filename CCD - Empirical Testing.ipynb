{
 "cells": [
  {
   "cell_type": "code",
   "execution_count": 1,
   "metadata": {},
   "outputs": [],
   "source": [
    "from scipy.optimize import root, minimize\n",
    "import numpy as np\n",
    "import matplotlib.pyplot as plt"
   ]
  },
  {
   "cell_type": "code",
   "execution_count": 2,
   "metadata": {},
   "outputs": [
    {
     "data": {
      "text/plain": [
       "[2.5810870251924829e+17, 0.28834832096389584, 323.99999820141301]"
      ]
     },
     "execution_count": 2,
     "metadata": {},
     "output_type": "execute_result"
    }
   ],
   "source": [
    "C = [\n",
    " [9.9068, 7.4296,-5.3985,20.222],\n",
    " [8.8226,0.8404,1.8736,-21.6135],\n",
    "#  [8.1358,0.0283,-0.1005,-21.509],\n",
    " [-1.7352,-4.7506,9.3576,5.6601]\n",
    "]\n",
    "T = 180+273.15\n",
    "def lhK(T,i):\n",
    "    C1 = 10**3\n",
    "    C2 = 10**-2\n",
    "    C3 = 10**-3\n",
    "    term1 = C[i][0]*C1/T\n",
    "    term2 = C[i][1]*C2*np.log(T)\n",
    "    term3 = C[i][2]*C3*T\n",
    "    term4 = C[i][3]\n",
    "    return np.exp(term1+term2+term3+term4)\n",
    "K = [lhK(T, i) for i in range(3)]\n",
    "K"
   ]
  },
  {
   "cell_type": "code",
   "execution_count": 3,
   "metadata": {},
   "outputs": [
    {
     "data": {
      "text/plain": [
       "(array([  5.70628386e+03,  -9.51815718e-10,   4.61346543e+03]),\n",
       " 32.101602849833135)"
      ]
     },
     "execution_count": 3,
     "metadata": {},
     "output_type": "execute_result"
    }
   ],
   "source": [
    "x0 = {\"CO2\":0.0631,\"NH3\":0.5338,\"H2NCOO\":0,\"NH4\":0,\"H2O\":0.27,\"HCO3\":0,\"H2NCONH2\":0.1331}\n",
    "def eqns(x):\n",
    "    e1,e2,e3 = x\n",
    "    T = 465.882732733\n",
    "#     T = 200+273.15\n",
    "    K = [lhK(T, i) for i in range(3)]\n",
    "    F0 = (1E6/60.06 - e3)/0.1331 #mol/day\n",
    "    F = {\"CO2\":0.0631*F0 - e1 - e2,\"NH3\":0.5338*F0 - 2*e1 - e2,\n",
    "         \"H2NCOO\":e1-e3,\"NH4\":e1+e2-e3,\"H2O\":0.27*F0 - e2 + e3,\"HCO3\":e2,\"H2NCONH2\":1E6/60.06}\n",
    "    eqn1 = K[0]*((F[\"NH3\"]**2)*F[\"CO2\"]) - F[\"NH4\"]*F[\"H2NCOO\"]\n",
    "    eqn2 = K[1]*(F[\"NH3\"]*F[\"CO2\"]*F[\"H2O\"]) - F[\"NH4\"]*F[\"HCO3\"]\n",
    "    eqn3 = K[2]*(F[\"NH4\"]*F[\"H2NCOO\"]) - F[\"H2O\"]*F[\"H2NCONH2\"]\n",
    "\n",
    "    return eqn1,eqn2,eqn3\n",
    "\n",
    "sol = root(eqns,[100,101,102],method=\"lm\")\n",
    "\n",
    "sol.x,np.log(np.sum(np.abs(sol.fun)))"
   ]
  },
  {
   "cell_type": "code",
   "execution_count": 4,
   "metadata": {},
   "outputs": [
    {
     "data": {
      "image/png": "[encoded data removed]",
      "text/plain": [
       "<Figure size 432x288 with 1 Axes>"
      ]
     },
     "metadata": {},
     "output_type": "display_data"
    }
   ],
   "source": [
    "x0 = {\"CO2\":0.0631,\"NH3\":0.5338,\"H2NCOO\":0,\"NH4\":0,\"H2O\":0.27,\"HCO3\":0,\"H2NCONH2\":0.1331}\n",
    "def eqns1(x,W):\n",
    "    e1,e2,e3,T = x\n",
    "    K = [lhK(T, i) for i in range(3)]\n",
    "    F0 = (1E6/60.06 - e3)/0.1331 #mol/day\n",
    "    F = {\"CO2\":0.0631*F0 - e1 - e2,\"NH3\":0.5338*F0 - 2*e1 - e2,\n",
    "         \"H2NCOO\":e1-e3,\"NH4\":e1+e2-e3,\"H2O\":0.27*F0 - e2 + e3,\"HCO3\":e2,\"H2NCONH2\":1E6/60.06}\n",
    "    eqn1 = K[0]*((F[\"NH3\"]**2)*F[\"CO2\"]) - F[\"NH4\"]*F[\"H2NCOO\"]\n",
    "    eqn2 = K[1]*(F[\"NH3\"]*F[\"CO2\"]*F[\"H2O\"]) - F[\"NH4\"]*F[\"HCO3\"]\n",
    "    eqn3 = K[2]*(F[\"NH4\"]*F[\"H2NCOO\"]) - F[\"H2O\"]*F[\"H2NCONH2\"]\n",
    "    eqn4 = W*F[\"CO2\"] - F[\"NH3\"]\n",
    "\n",
    "    return eqn1,eqn2,eqn3,eqn4\n",
    "W = np.linspace(2.3,4,1000)\n",
    "err = 0*W\n",
    "# err[-1] = np.inf\n",
    "for i in range(len(W)):\n",
    "    err[i] = np.sum(np.abs(root(lambda x: eqns1(x,W[i]),[100,101,102,170+273.15],method=\"lm\").fun))\n",
    "#     if err[i] > 10*err[i-1]:\n",
    "#         err[i] = err[i-1]\n",
    "plt.plot(W,np.log(err))\n",
    "plt.show()\n"
   ]
  },
  {
   "cell_type": "code",
   "execution_count": 5,
   "metadata": {},
   "outputs": [
    {
     "name": "stdout",
     "output_type": "stream",
     "text": [
      "[ 39944.76434493 -34589.94348308   5354.8207717    1643.48342137],21.44992635088338\n"
     ]
    }
   ],
   "source": [
    "def eqns1(x):\n",
    "    e1,e2,e3,T = x\n",
    "    K = [lhK(T, i) for i in range(3)]\n",
    "    F0 = (1E6/60.06 - e3)/0.1331 #mol/day\n",
    "    F = {\"CO2\":0.0631*F0 - e1 - e2,\"NH3\":0.5338*F0 - 2*e1 - e2,\n",
    "         \"H2NCOO\":e1-e3,\"NH4\":e1+e2-e3,\"H2O\":0.27*F0 - e2 + e3,\"HCO3\":e2,\"H2NCONH2\":1E6/60.06}\n",
    "    eqn1 = K[0]*((F[\"NH3\"]**2)*F[\"CO2\"]) - F[\"NH4\"]*F[\"H2NCOO\"]\n",
    "    eqn2 = K[1]*(F[\"NH3\"]*F[\"CO2\"]*F[\"H2O\"]) - F[\"NH4\"]*F[\"HCO3\"]\n",
    "    eqn3 = K[2]*(F[\"NH4\"]*F[\"H2NCOO\"]) - F[\"H2O\"]*F[\"H2NCONH2\"]\n",
    "    eqn4 = 3.72092092092*F[\"CO2\"] - F[\"NH3\"]\n",
    "\n",
    "    return eqn1,eqn2,eqn3,eqn4\n",
    "sol = root(eqns1,[100,101,102,170+273.15],method=\"lm\")\n",
    "print(f\"{sol.x},{np.sum(np.abs(sol.fun)):}\")"
   ]
  },
  {
   "cell_type": "code",
   "execution_count": 6,
   "metadata": {},
   "outputs": [
    {
     "name": "stdout",
     "output_type": "stream",
     "text": [
      "3.72092092092\n"
     ]
    }
   ],
   "source": [
    "print(W[np.argmin(err)])"
   ]
  },
  {
   "cell_type": "code",
   "execution_count": 7,
   "metadata": {},
   "outputs": [],
   "source": [
    "def molar_fractions(x):\n",
    "    e1,e2,e3 = x\n",
    "    F0 = (1E6/60.06 - e3)/0.1331 #mol/day\n",
    "    F = {\"CO2\":0.0631*F0 - e1 - e2,\"NH3\":0.5338*F0 - 2*e1 - e2,\n",
    "         \"H2NCOO\":e1-e3,\"NH4\":e1+e2-e3,\"H2O\":0.27*F0 - e2 + e3,\"HCO3\":e2,\"H2NCONH2\":1E6/60.06}\n",
    "    x = {}\n",
    "    for key,value in F.items():\n",
    "        x[key] = value/sum(F.values())\n",
    "    return x"
   ]
  },
  {
   "cell_type": "code",
   "execution_count": 8,
   "metadata": {},
   "outputs": [
    {
     "ename": "ValueError",
     "evalue": "too many values to unpack (expected 3)",
     "output_type": "error",
     "traceback": [
      "\u001b[1;31m---------------------------------------------------------------------------\u001b[0m",
      "\u001b[1;31mValueError\u001b[0m                                Traceback (most recent call last)",
      "\u001b[1;32m<ipython-input-8-213ddbfb7528>\u001b[0m in \u001b[0;36m<module>\u001b[1;34m()\u001b[0m\n\u001b[1;32m----> 1\u001b[1;33m \u001b[0mxf\u001b[0m \u001b[1;33m=\u001b[0m \u001b[0mmolar_fractions\u001b[0m\u001b[1;33m(\u001b[0m\u001b[0msol\u001b[0m\u001b[1;33m.\u001b[0m\u001b[0mx\u001b[0m\u001b[1;33m)\u001b[0m\u001b[1;33m\u001b[0m\u001b[0m\n\u001b[0m\u001b[0;32m      2\u001b[0m \u001b[0mprint\u001b[0m\u001b[1;33m(\u001b[0m\u001b[0mxf\u001b[0m\u001b[1;33m)\u001b[0m\u001b[1;33m\u001b[0m\u001b[0m\n\u001b[0;32m      3\u001b[0m \u001b[0mnp\u001b[0m\u001b[1;33m.\u001b[0m\u001b[0msum\u001b[0m\u001b[1;33m(\u001b[0m\u001b[0mlist\u001b[0m\u001b[1;33m(\u001b[0m\u001b[0mxf\u001b[0m\u001b[1;33m.\u001b[0m\u001b[0mvalues\u001b[0m\u001b[1;33m(\u001b[0m\u001b[1;33m)\u001b[0m\u001b[1;33m)\u001b[0m\u001b[1;33m)\u001b[0m\u001b[1;33m\u001b[0m\u001b[0m\n",
      "\u001b[1;32m<ipython-input-7-b383ee4e2259>\u001b[0m in \u001b[0;36mmolar_fractions\u001b[1;34m(x)\u001b[0m\n\u001b[0;32m      1\u001b[0m \u001b[1;32mdef\u001b[0m \u001b[0mmolar_fractions\u001b[0m\u001b[1;33m(\u001b[0m\u001b[0mx\u001b[0m\u001b[1;33m)\u001b[0m\u001b[1;33m:\u001b[0m\u001b[1;33m\u001b[0m\u001b[0m\n\u001b[1;32m----> 2\u001b[1;33m     \u001b[0me1\u001b[0m\u001b[1;33m,\u001b[0m\u001b[0me2\u001b[0m\u001b[1;33m,\u001b[0m\u001b[0me3\u001b[0m \u001b[1;33m=\u001b[0m \u001b[0mx\u001b[0m\u001b[1;33m\u001b[0m\u001b[0m\n\u001b[0m\u001b[0;32m      3\u001b[0m     \u001b[0mF0\u001b[0m \u001b[1;33m=\u001b[0m \u001b[1;33m(\u001b[0m\u001b[1;36m1E6\u001b[0m\u001b[1;33m/\u001b[0m\u001b[1;36m60.06\u001b[0m \u001b[1;33m-\u001b[0m \u001b[0me3\u001b[0m\u001b[1;33m)\u001b[0m\u001b[1;33m/\u001b[0m\u001b[1;36m0.1331\u001b[0m \u001b[1;31m#mol/day\u001b[0m\u001b[1;33m\u001b[0m\u001b[0m\n\u001b[0;32m      4\u001b[0m     F = {\"CO2\":0.0631*F0 - e1 - e2,\"NH3\":0.5338*F0 - 2*e1 - e2,\n\u001b[0;32m      5\u001b[0m          \"H2NCOO\":e1-e3,\"NH4\":e1+e2-e3,\"H2O\":0.27*F0 - e2 + e3,\"HCO3\":e2,\"H2NCONH2\":1E6/60.06}\n",
      "\u001b[1;31mValueError\u001b[0m: too many values to unpack (expected 3)"
     ]
    }
   ],
   "source": [
    "xf = molar_fractions(sol.x)\n",
    "print(xf)\n",
    "np.sum(list(xf.values()))"
   ]
  },
  {
   "cell_type": "code",
   "execution_count": null,
   "metadata": {},
   "outputs": [],
   "source": [
    "# K = np.exp(np.array([-2657703.08858974,   403435.21123485, -3022561.17610593]))\n",
    "x0 = {\"CO2\":0.0631,\"NH3\":0.5338,\"H2NCOO\":0,\"NH4\":0,\"H2O\":0.27,\"HCO3\":0,\"H2NCONH2\":0.1331}\n",
    "def eqns(x,W):\n",
    "    e1,e2,e3,T = x\n",
    "    K = [lhK(T, i) for i in range(3)]\n",
    "    K = [K[2],K[0],K[1]]\n",
    "    F0 = (1E6/60.06 - e1)/0.1331 #mol/day\n",
    "    F = {\"CO2\":0.0631*F0 - e1 - e2 - e3,\"NH3\":0.5338*F0 - 2*e1 - 2*e2 - e3,\n",
    "         \"NH2COONH4\":e2,\"H2O\":0.27*F0 + e1 - e3,\"(NH2)2CO\":1E6/60.06,\"NH4HCO3\":e3}\n",
    "    eqn1 = K[0]*((F[\"NH3\"]**2)*F[\"CO2\"]) - F[\"H2O\"]*F[\"(NH2)2CO\"]\n",
    "    eqn2 = K[1]*((F[\"NH3\"]**2)*F[\"CO2\"]) - F[\"NH2COONH4\"]\n",
    "    eqn3 = K[2]*(F[\"NH3\"]*F[\"CO2\"]*F[\"H2O\"]) - F[\"NH4HCO3\"]\n",
    "    eqn4 = W*F[\"CO2\"] - F[\"NH3\"]\n",
    "    return eqn1,eqn2,eqn3,eqn4\n",
    "\n",
    "W = np.linspace(2.3,4,1000)\n",
    "err = 0*W\n",
    "for i in range(len(W)):\n",
    "    err[i] = np.sum(np.abs(root(lambda x: eqns(x,W[i]),[100,101,102,170+273.15],method=\"lm\").fun))\n",
    "plt.plot(W,np.log(err))\n",
    "plt.show()"
   ]
  },
  {
   "cell_type": "code",
   "execution_count": null,
   "metadata": {},
   "outputs": [],
   "source": [
    "def molar_fractions(x):\n",
    "    e1,e2,e3 = x\n",
    "    F0 = (1E6/60.06 - e1)/0.1331 #mol/day\n",
    "    F = {\"CO2\":0.0631*F0 - e1 - e2 - e3,\"NH3\":0.5338*F0 - 2*e1 - 2*e2 - e3,\n",
    "         \"NH2COONH4\":e2,\"H2O\":0.27*F0 + e1 - e3,\"(NH2)2CO\":1E6/60.06,\"NH4HCO3\":e3}\n",
    "    x = {}\n",
    "    for key,value in F.items():\n",
    "        x[key] = value/sum(F.values())\n",
    "    return x\n",
    "molar_fractions(sol.x)"
   ]
  },
  {
   "cell_type": "code",
   "execution_count": null,
   "metadata": {},
   "outputs": [],
   "source": [
    "print(W[np.argmin(err)])"
   ]
  },
  {
   "cell_type": "code",
   "execution_count": null,
   "metadata": {},
   "outputs": [],
   "source": [
    "x0 = {\"CO2\":0.0631,\"NH3\":0.5338,\"H2NCOO\":0,\"NH4\":0,\"H2O\":0.27,\"HCO3\":0,\"H2NCONH2\":0.1331}\n",
    "def eqns(x):\n",
    "    e1,e2,e3,T = x\n",
    "    K = [lhK(T, i) for i in range(3)]\n",
    "    K = [K[2],K[0],K[1]]\n",
    "    F0 = (1E6/60.06 - e1)/0.1331 #mol/day\n",
    "    F = {\"CO2\":0.0631*F0 - e1 - e2 - e3,\"NH3\":0.5338*F0 - 2*e1 - 2*e2 - e3,\n",
    "         \"NH2COONH4\":e2,\"H2O\":0.27*F0 + e1 - e3,\"(NH2)2CO\":1E6/60.06,\"NH4HCO3\":e3}\n",
    "    eqn1 = K[0]*((F[\"NH3\"]**2)*F[\"CO2\"]) - F[\"H2O\"]*F[\"(NH2)2CO\"]\n",
    "    eqn2 = K[1]*((F[\"NH3\"]**2)*F[\"CO2\"]) - F[\"NH2COONH4\"]\n",
    "    eqn3 = K[2]*(F[\"NH3\"]*F[\"CO2\"]*F[\"H2O\"]) - F[\"NH4HCO3\"]\n",
    "    eqn4 = 2.31871871872*F[\"CO2\"] - F[\"NH3\"]\n",
    "    return eqn1,eqn2,eqn3,eqn4\n",
    "\n",
    "sol = root(eqns,[100,101,102,170+273.15],method=\"lm\")\n"
   ]
  },
  {
   "cell_type": "code",
   "execution_count": null,
   "metadata": {},
   "outputs": [],
   "source": [
    "np.sum(np.abs(sol.fun))"
   ]
  },
  {
   "cell_type": "code",
   "execution_count": null,
   "metadata": {},
   "outputs": [],
   "source": [
    "x0 = {\"CO2\":0.0631,\"NH3\":0.5338,\"H2NCOO\":0,\"NH4\":0,\"H2O\":0.27,\"HCO3\":0,\"H2NCONH2\":0.1331}\n",
    "def eqns(x,T):\n",
    "    e1,e2,e3 = x\n",
    "#     T = 200+273.15\n",
    "    K = [lhK(T, i) for i in range(3)]\n",
    "    F0 = (1E6/60.06 - e3)/0.1331 #mol/day\n",
    "    F = {\"CO2\":0.0631*F0 - e1 - e2,\"NH3\":0.5338*F0 - 2*e1 - e2,\n",
    "         \"H2NCOO\":e1-e3,\"NH4\":e1+e2-e3,\"H2O\":0.27*F0 - e2 + e3,\"HCO3\":e2,\"H2NCONH2\":1E6/60.06}\n",
    "    eqn1 = K[0]*((F[\"NH3\"]**2)*F[\"CO2\"]) - F[\"NH4\"]*F[\"H2NCOO\"]\n",
    "    eqn2 = K[1]*(F[\"NH3\"]*F[\"CO2\"]*F[\"H2O\"]) - F[\"NH4\"]*F[\"HCO3\"]\n",
    "    eqn3 = K[2]*(F[\"NH4\"]*F[\"H2NCOO\"]) - F[\"H2O\"]*F[\"H2NCONH2\"]\n",
    "\n",
    "    return eqn1,eqn2,eqn3\n",
    "T = np.linspace(170+273.15, 200+273.15,1000)\n",
    "err = 0*T\n",
    "for i in range(len(T)):\n",
    "    err[i] = np.sum(np.abs(root(lambda x: eqns(x,T[i]),[100,101,102],method=\"lm\").fun))\n",
    "\n",
    "plt.plot(T,np.log(err))\n",
    "plt.show()"
   ]
  },
  {
   "cell_type": "code",
   "execution_count": null,
   "metadata": {},
   "outputs": [],
   "source": [
    "print(T[np.argmin(err[np.argmin(err)+1:])])"
   ]
  },
  {
   "cell_type": "code",
   "execution_count": 10,
   "metadata": {},
   "outputs": [
    {
     "data": {
      "text/plain": [
       "(array([ 16103.30980316,  -2381.182004  ,  29825.43788347,  12389.23341272]),\n",
       " 29.905296157217606)"
      ]
     },
     "execution_count": 10,
     "metadata": {},
     "output_type": "execute_result"
    }
   ],
   "source": [
    "x0 = {\"CO2\":0.0631,\"NH3\":0.5338,\"H2NCOO\":0,\"NH4\":0,\"H2O\":0.27,\"HCO3\":0,\"H2NCONH2\":0.1331}\n",
    "W = 2.3\n",
    "def eqns(x):\n",
    "    e1,e2,FNH30,FCO20 = x\n",
    "#     T = 465.882732733\n",
    "    T = 200+273.15\n",
    "    K = [lhK(T, i) for i in range(3)]\n",
    "    e3 = 1E6/60.06\n",
    "    F = {\"CO2\":FCO20 - e1 - e2,\"NH3\":FNH30 - 2*e1 - e2,\n",
    "         \"H2NCOO\":e1-e3,\"NH4\":e1+e2-e3,\"H2O\": - e2 + e3,\"HCO3\":e2,\"H2NCONH2\":1E6/60.06}\n",
    "    eqn1 = K[0]*((F[\"NH3\"]**2)*F[\"CO2\"]) - F[\"NH4\"]*F[\"H2NCOO\"]\n",
    "    eqn2 = K[1]*(F[\"NH3\"]*F[\"CO2\"]*F[\"H2O\"]) - F[\"NH4\"]*F[\"HCO3\"]\n",
    "    eqn3 = K[2]*(F[\"NH4\"]*F[\"H2NCOO\"]) - F[\"H2O\"]*F[\"H2NCONH2\"]\n",
    "    eqn4 = FNH30 - W*FCO20\n",
    "\n",
    "    return eqn1,eqn2,eqn3,eqn4\n",
    "\n",
    "sol = root(eqns,[100,101,102,103],method=\"lm\")\n",
    "\n",
    "sol.x,np.log(np.sum(np.abs(sol.fun)))"
   ]
  },
  {
   "cell_type": "code",
   "execution_count": null,
   "metadata": {},
   "outputs": [],
   "source": [
    "def molar_fractions(x):\n",
    "    e1,e2,e3 = x\n",
    "    e3 = 1E6/60.06\n",
    "    F = {\"CO2\":FCO20 - e1 - e2,\"NH3\":FNH30 - 2*e1 - e2,\n",
    "         \"H2NCOO\":e1-e3,\"NH4\":e1+e2-e3,\"H2O\": - e2 + e3,\"HCO3\":e2,\"H2NCONH2\":1E6/60.06}\n",
    "    x = {}\n",
    "    for key,value in F.items():\n",
    "        x[key] = value/sum(F.values())\n",
    "    return x\n",
    "molar_fractions(sol.x)"
   ]
  }
 ],
 "metadata": {
  "kernelspec": {
   "display_name": "Python 3",
   "language": "python",
   "name": "python3"
  },
  "language_info": {
   "codemirror_mode": {
    "name": "ipython",
    "version": 3
   },
   "file_extension": ".py",
   "mimetype": "text/x-python",
   "name": "python",
   "nbconvert_exporter": "python",
   "pygments_lexer": "ipython3",
   "version": "3.6.5"
  }
 },
 "nbformat": 4,
 "nbformat_minor": 2
}
