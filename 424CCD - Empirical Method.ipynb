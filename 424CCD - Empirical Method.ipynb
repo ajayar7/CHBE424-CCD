{
 "cells": [
  {
   "cell_type": "code",
   "execution_count": 1,
   "metadata": {},
   "outputs": [],
   "source": [
    "from scipy.optimize import root, minimize\n",
    "import numpy as np"
   ]
  },
  {
   "cell_type": "code",
   "execution_count": 2,
   "metadata": {},
   "outputs": [
    {
     "data": {
      "text/plain": [
       "[2.5810870251924829e+17, 0.28834832096389584, 323.99999820141301]"
      ]
     },
     "execution_count": 2,
     "metadata": {},
     "output_type": "execute_result"
    }
   ],
   "source": [
    "C = [\n",
    " [9.9068, 7.4296,-5.3985,20.222],\n",
    " [8.8226,0.8404,1.8736,-21.6135],\n",
    "#  [8.1358,0.0283,-0.1005,-21.509],\n",
    " [-1.7352,-4.7506,9.3576,5.6601]\n",
    "]\n",
    "T = 180+273.15\n",
    "def lhK(T,i):\n",
    "    C1 = 10**3\n",
    "    C2 = 10**-2\n",
    "    C3 = 10**-3\n",
    "    term1 = C[i][0]*C1/T\n",
    "    term2 = C[i][1]*C2*np.log(T)\n",
    "    term3 = C[i][2]*C3*T\n",
    "    term4 = C[i][3]\n",
    "    return np.exp(term1+term2+term3+term4)\n",
    "K = [lhK(T, i) for i in range(3)]\n",
    "K"
   ]
  },
  {
   "cell_type": "code",
   "execution_count": 4,
   "metadata": {},
   "outputs": [
    {
     "data": {
      "text/plain": [
       "(array([  5.68481139e+03,   7.85669098e-08,   4.65875840e+03]),\n",
       " (-26127264790362.148, -0.00011001002271872755, 3.6695272326469421))"
      ]
     },
     "execution_count": 4,
     "metadata": {},
     "output_type": "execute_result"
    }
   ],
   "source": [
    "x0 = {\"CO2\":0.0631,\"NH3\":0.5338,\"H2NCOO\":0,\"NH4\":0,\"H2O\":0.27,\"HCO3\":0,\"H2NCONH2\":0.1331}\n",
    "def eqns(x):\n",
    "    e1,e2,e3 = x\n",
    "    T = 200+273.15\n",
    "    K = [lhK(T, i) for i in range(3)]\n",
    "    F0 = (1E6/60.06 - e3)/0.1331 #mol/day\n",
    "    F = {\"CO2\":0.0631*F0 - e1 - e2,\"NH3\":0.5338*F0 - 2*e1 - e2,\n",
    "         \"H2NCOO\":e1-e3,\"NH4\":e1+e2-e3,\"H2O\":0.27*F0 - e2 + e3,\"HCO3\":e2,\"H2NCONH2\":1E6/60.06}\n",
    "    eqn1 = K[0]*((F[\"NH3\"]**2)*F[\"CO2\"]) - F[\"NH4\"]*F[\"H2NCOO\"]\n",
    "    eqn2 = K[1]*(F[\"NH3\"]*F[\"CO2\"]*F[\"H2O\"]) - F[\"NH4\"]*F[\"HCO3\"]\n",
    "    eqn3 = K[2]*(F[\"NH4\"]*F[\"H2NCOO\"]) - F[\"H2O\"]*F[\"H2NCONH2\"]\n",
    "\n",
    "    return eqn1,eqn2,eqn3\n",
    "\n",
    "sol = root(eqns,[100,101,102],method=\"lm\")\n",
    "\n",
    "sol.x,eqns(sol.x)"
   ]
  },
  {
   "cell_type": "code",
   "execution_count": 5,
   "metadata": {},
   "outputs": [],
   "source": [
    "def molar_fractions(x):\n",
    "    e1,e2,e3 = x\n",
    "    F0 = (1E6/60.06 - e3)/0.1331 #mol/day\n",
    "    F = {\"CO2\":0.0631*F0 - e1 - e2,\"NH3\":0.5338*F0 - 2*e1 - e2,\n",
    "         \"H2NCOO\":e1-e3,\"NH4\":e1+e2-e3,\"H2O\":0.27*F0 - e2 + e3,\"HCO3\":e2,\"H2NCONH2\":1E6/60.06}\n",
    "    x = {}\n",
    "    for key,value in F.items():\n",
    "        x[key] = value/sum(F.values())\n",
    "    return x"
   ]
  },
  {
   "cell_type": "code",
   "execution_count": 6,
   "metadata": {},
   "outputs": [
    {
     "data": {
      "text/plain": [
       "{'CO2': -2.4882937866284262e-18,\n",
       " 'NH3': 0.43505176646480098,\n",
       " 'H2NCOO': 0.012155976451156748,\n",
       " 'NH4': 0.012155976452087552,\n",
       " 'H2O': 0.34337823210712681,\n",
       " 'HCO3': 9.3080719616724929e-13,\n",
       " 'H2NCONH2': 0.19725804852389703}"
      ]
     },
     "execution_count": 6,
     "metadata": {},
     "output_type": "execute_result"
    }
   ],
   "source": [
    "molar_fractions(sol.x)"
   ]
  },
  {
   "cell_type": "code",
   "execution_count": null,
   "metadata": {},
   "outputs": [],
   "source": []
  }
 ],
 "metadata": {
  "kernelspec": {
   "display_name": "Python 3",
   "language": "python",
   "name": "python3"
  },
  "language_info": {
   "codemirror_mode": {
    "name": "ipython",
    "version": 3
   },
   "file_extension": ".py",
   "mimetype": "text/x-python",
   "name": "python",
   "nbconvert_exporter": "python",
   "pygments_lexer": "ipython3",
   "version": "3.6.5"
  }
 },
 "nbformat": 4,
 "nbformat_minor": 2
}
